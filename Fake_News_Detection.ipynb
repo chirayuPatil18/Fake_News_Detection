{
 "cells": [
  {
   "cell_type": "code",
   "execution_count": 35,
   "id": "c6f03d12-0b9f-449e-bf3f-191c6621153e",
   "metadata": {},
   "outputs": [],
   "source": [
    "import pandas as pd\n",
    "import numpy as np\n",
    "import matplotlib.pyplot as plt\n",
    "import seaborn as sns\n",
    "%matplotlib inline"
   ]
  },
  {
   "cell_type": "code",
   "execution_count": 36,
   "id": "3bc97fd6-7801-4ca4-bdd7-926f6b1c37d1",
   "metadata": {},
   "outputs": [],
   "source": [
    "Dataset = pd.read_csv(\"WELFake_Dataset.csv\")"
   ]
  },
  {
   "cell_type": "code",
   "execution_count": 37,
   "id": "2ae3a581-e435-48f2-8e40-6b4869a51a97",
   "metadata": {},
   "outputs": [
    {
     "data": {
      "text/html": [
       "<div>\n",
       "<style scoped>\n",
       "    .dataframe tbody tr th:only-of-type {\n",
       "        vertical-align: middle;\n",
       "    }\n",
       "\n",
       "    .dataframe tbody tr th {\n",
       "        vertical-align: top;\n",
       "    }\n",
       "\n",
       "    .dataframe thead th {\n",
       "        text-align: right;\n",
       "    }\n",
       "</style>\n",
       "<table border=\"1\" class=\"dataframe\">\n",
       "  <thead>\n",
       "    <tr style=\"text-align: right;\">\n",
       "      <th></th>\n",
       "      <th>Unnamed: 0</th>\n",
       "      <th>title</th>\n",
       "      <th>text</th>\n",
       "      <th>label</th>\n",
       "    </tr>\n",
       "  </thead>\n",
       "  <tbody>\n",
       "    <tr>\n",
       "      <th>0</th>\n",
       "      <td>0</td>\n",
       "      <td>LAW ENFORCEMENT ON HIGH ALERT Following Threat...</td>\n",
       "      <td>No comment is expected from Barack Obama Membe...</td>\n",
       "      <td>1</td>\n",
       "    </tr>\n",
       "    <tr>\n",
       "      <th>1</th>\n",
       "      <td>1</td>\n",
       "      <td>NaN</td>\n",
       "      <td>Did they post their votes for Hillary already?</td>\n",
       "      <td>1</td>\n",
       "    </tr>\n",
       "    <tr>\n",
       "      <th>2</th>\n",
       "      <td>2</td>\n",
       "      <td>UNBELIEVABLE! OBAMA’S ATTORNEY GENERAL SAYS MO...</td>\n",
       "      <td>Now, most of the demonstrators gathered last ...</td>\n",
       "      <td>1</td>\n",
       "    </tr>\n",
       "    <tr>\n",
       "      <th>3</th>\n",
       "      <td>3</td>\n",
       "      <td>Bobby Jindal, raised Hindu, uses story of Chri...</td>\n",
       "      <td>A dozen politically active pastors came here f...</td>\n",
       "      <td>0</td>\n",
       "    </tr>\n",
       "    <tr>\n",
       "      <th>4</th>\n",
       "      <td>4</td>\n",
       "      <td>SATAN 2: Russia unvelis an image of its terrif...</td>\n",
       "      <td>The RS-28 Sarmat missile, dubbed Satan 2, will...</td>\n",
       "      <td>1</td>\n",
       "    </tr>\n",
       "  </tbody>\n",
       "</table>\n",
       "</div>"
      ],
      "text/plain": [
       "   Unnamed: 0                                              title  \\\n",
       "0           0  LAW ENFORCEMENT ON HIGH ALERT Following Threat...   \n",
       "1           1                                                NaN   \n",
       "2           2  UNBELIEVABLE! OBAMA’S ATTORNEY GENERAL SAYS MO...   \n",
       "3           3  Bobby Jindal, raised Hindu, uses story of Chri...   \n",
       "4           4  SATAN 2: Russia unvelis an image of its terrif...   \n",
       "\n",
       "                                                text  label  \n",
       "0  No comment is expected from Barack Obama Membe...      1  \n",
       "1     Did they post their votes for Hillary already?      1  \n",
       "2   Now, most of the demonstrators gathered last ...      1  \n",
       "3  A dozen politically active pastors came here f...      0  \n",
       "4  The RS-28 Sarmat missile, dubbed Satan 2, will...      1  "
      ]
     },
     "execution_count": 37,
     "metadata": {},
     "output_type": "execute_result"
    }
   ],
   "source": [
    "Dataset.head()"
   ]
  },
  {
   "cell_type": "markdown",
   "id": "7d5af9eb-9cb0-49d1-9ec7-976015bebfde",
   "metadata": {},
   "source": [
    "## Dataset Exploration"
   ]
  },
  {
   "cell_type": "code",
   "execution_count": 38,
   "id": "111efc3f-8cef-4dc0-b7c1-bca801e6a42e",
   "metadata": {},
   "outputs": [
    {
     "name": "stdout",
     "output_type": "stream",
     "text": [
      "<class 'pandas.core.frame.DataFrame'>\n",
      "RangeIndex: 72134 entries, 0 to 72133\n",
      "Data columns (total 4 columns):\n",
      " #   Column      Non-Null Count  Dtype \n",
      "---  ------      --------------  ----- \n",
      " 0   Unnamed: 0  72134 non-null  int64 \n",
      " 1   title       71576 non-null  object\n",
      " 2   text        72095 non-null  object\n",
      " 3   label       72134 non-null  int64 \n",
      "dtypes: int64(2), object(2)\n",
      "memory usage: 2.2+ MB\n"
     ]
    }
   ],
   "source": [
    "Dataset.info()"
   ]
  },
  {
   "cell_type": "code",
   "execution_count": 39,
   "id": "52a1a4f5-2114-4b71-b5bf-c48886d68ac5",
   "metadata": {},
   "outputs": [
    {
     "data": {
      "text/html": [
       "<div>\n",
       "<style scoped>\n",
       "    .dataframe tbody tr th:only-of-type {\n",
       "        vertical-align: middle;\n",
       "    }\n",
       "\n",
       "    .dataframe tbody tr th {\n",
       "        vertical-align: top;\n",
       "    }\n",
       "\n",
       "    .dataframe thead th {\n",
       "        text-align: right;\n",
       "    }\n",
       "</style>\n",
       "<table border=\"1\" class=\"dataframe\">\n",
       "  <thead>\n",
       "    <tr style=\"text-align: right;\">\n",
       "      <th></th>\n",
       "      <th>Unnamed: 0</th>\n",
       "      <th>label</th>\n",
       "    </tr>\n",
       "  </thead>\n",
       "  <tbody>\n",
       "    <tr>\n",
       "      <th>count</th>\n",
       "      <td>72134.000000</td>\n",
       "      <td>72134.000000</td>\n",
       "    </tr>\n",
       "    <tr>\n",
       "      <th>mean</th>\n",
       "      <td>36066.500000</td>\n",
       "      <td>0.514404</td>\n",
       "    </tr>\n",
       "    <tr>\n",
       "      <th>std</th>\n",
       "      <td>20823.436496</td>\n",
       "      <td>0.499796</td>\n",
       "    </tr>\n",
       "    <tr>\n",
       "      <th>min</th>\n",
       "      <td>0.000000</td>\n",
       "      <td>0.000000</td>\n",
       "    </tr>\n",
       "    <tr>\n",
       "      <th>25%</th>\n",
       "      <td>18033.250000</td>\n",
       "      <td>0.000000</td>\n",
       "    </tr>\n",
       "    <tr>\n",
       "      <th>50%</th>\n",
       "      <td>36066.500000</td>\n",
       "      <td>1.000000</td>\n",
       "    </tr>\n",
       "    <tr>\n",
       "      <th>75%</th>\n",
       "      <td>54099.750000</td>\n",
       "      <td>1.000000</td>\n",
       "    </tr>\n",
       "    <tr>\n",
       "      <th>max</th>\n",
       "      <td>72133.000000</td>\n",
       "      <td>1.000000</td>\n",
       "    </tr>\n",
       "  </tbody>\n",
       "</table>\n",
       "</div>"
      ],
      "text/plain": [
       "         Unnamed: 0         label\n",
       "count  72134.000000  72134.000000\n",
       "mean   36066.500000      0.514404\n",
       "std    20823.436496      0.499796\n",
       "min        0.000000      0.000000\n",
       "25%    18033.250000      0.000000\n",
       "50%    36066.500000      1.000000\n",
       "75%    54099.750000      1.000000\n",
       "max    72133.000000      1.000000"
      ]
     },
     "execution_count": 39,
     "metadata": {},
     "output_type": "execute_result"
    }
   ],
   "source": [
    "Dataset.describe()"
   ]
  },
  {
   "cell_type": "code",
   "execution_count": 40,
   "id": "58b9830e-b9ef-421c-bbc5-caa33152a5e7",
   "metadata": {},
   "outputs": [
    {
     "data": {
      "text/plain": [
       "Unnamed: 0      0\n",
       "title         558\n",
       "text           39\n",
       "label           0\n",
       "dtype: int64"
      ]
     },
     "execution_count": 40,
     "metadata": {},
     "output_type": "execute_result"
    }
   ],
   "source": [
    "Dataset.isnull().sum()"
   ]
  },
  {
   "cell_type": "code",
   "execution_count": 41,
   "id": "2ed58822-ee2c-4a67-9903-667ce663a6e1",
   "metadata": {},
   "outputs": [
    {
     "data": {
      "text/plain": [
       "(72134, 4)"
      ]
     },
     "execution_count": 41,
     "metadata": {},
     "output_type": "execute_result"
    }
   ],
   "source": [
    "Dataset.shape"
   ]
  },
  {
   "cell_type": "markdown",
   "id": "76acf5c3-a20a-4d7d-843f-1aba67f6c3af",
   "metadata": {},
   "source": [
    "## Data Cleaning"
   ]
  },
  {
   "cell_type": "code",
   "execution_count": 42,
   "id": "c6d15eff-54ec-437f-89ff-bb06a014c0e4",
   "metadata": {},
   "outputs": [],
   "source": [
    "#Droping Unnecessory column\n",
    "Dataset.drop(\"Unnamed: 0\",axis = 1,inplace = True)"
   ]
  },
  {
   "cell_type": "code",
   "execution_count": 43,
   "id": "9194cc0c-af0b-4722-8de6-0c520f472edf",
   "metadata": {},
   "outputs": [
    {
     "data": {
      "text/html": [
       "<div>\n",
       "<style scoped>\n",
       "    .dataframe tbody tr th:only-of-type {\n",
       "        vertical-align: middle;\n",
       "    }\n",
       "\n",
       "    .dataframe tbody tr th {\n",
       "        vertical-align: top;\n",
       "    }\n",
       "\n",
       "    .dataframe thead th {\n",
       "        text-align: right;\n",
       "    }\n",
       "</style>\n",
       "<table border=\"1\" class=\"dataframe\">\n",
       "  <thead>\n",
       "    <tr style=\"text-align: right;\">\n",
       "      <th></th>\n",
       "      <th>title</th>\n",
       "      <th>text</th>\n",
       "      <th>label</th>\n",
       "    </tr>\n",
       "  </thead>\n",
       "  <tbody>\n",
       "    <tr>\n",
       "      <th>0</th>\n",
       "      <td>LAW ENFORCEMENT ON HIGH ALERT Following Threat...</td>\n",
       "      <td>No comment is expected from Barack Obama Membe...</td>\n",
       "      <td>1</td>\n",
       "    </tr>\n",
       "    <tr>\n",
       "      <th>1</th>\n",
       "      <td>NaN</td>\n",
       "      <td>Did they post their votes for Hillary already?</td>\n",
       "      <td>1</td>\n",
       "    </tr>\n",
       "    <tr>\n",
       "      <th>2</th>\n",
       "      <td>UNBELIEVABLE! OBAMA’S ATTORNEY GENERAL SAYS MO...</td>\n",
       "      <td>Now, most of the demonstrators gathered last ...</td>\n",
       "      <td>1</td>\n",
       "    </tr>\n",
       "    <tr>\n",
       "      <th>3</th>\n",
       "      <td>Bobby Jindal, raised Hindu, uses story of Chri...</td>\n",
       "      <td>A dozen politically active pastors came here f...</td>\n",
       "      <td>0</td>\n",
       "    </tr>\n",
       "    <tr>\n",
       "      <th>4</th>\n",
       "      <td>SATAN 2: Russia unvelis an image of its terrif...</td>\n",
       "      <td>The RS-28 Sarmat missile, dubbed Satan 2, will...</td>\n",
       "      <td>1</td>\n",
       "    </tr>\n",
       "  </tbody>\n",
       "</table>\n",
       "</div>"
      ],
      "text/plain": [
       "                                               title  \\\n",
       "0  LAW ENFORCEMENT ON HIGH ALERT Following Threat...   \n",
       "1                                                NaN   \n",
       "2  UNBELIEVABLE! OBAMA’S ATTORNEY GENERAL SAYS MO...   \n",
       "3  Bobby Jindal, raised Hindu, uses story of Chri...   \n",
       "4  SATAN 2: Russia unvelis an image of its terrif...   \n",
       "\n",
       "                                                text  label  \n",
       "0  No comment is expected from Barack Obama Membe...      1  \n",
       "1     Did they post their votes for Hillary already?      1  \n",
       "2   Now, most of the demonstrators gathered last ...      1  \n",
       "3  A dozen politically active pastors came here f...      0  \n",
       "4  The RS-28 Sarmat missile, dubbed Satan 2, will...      1  "
      ]
     },
     "execution_count": 43,
     "metadata": {},
     "output_type": "execute_result"
    }
   ],
   "source": [
    "Dataset.head()"
   ]
  },
  {
   "cell_type": "code",
   "execution_count": 44,
   "id": "215e1d86-3c8a-4966-8b71-95691d0051d1",
   "metadata": {},
   "outputs": [],
   "source": [
    "#Droping null values as it won't affect Dataset much \n",
    "Dataset = Dataset.dropna().reset_index(drop = True)"
   ]
  },
  {
   "cell_type": "code",
   "execution_count": 45,
   "id": "99295cfa-a64a-4b1b-aea0-6ada99e567fa",
   "metadata": {},
   "outputs": [
    {
     "data": {
      "text/plain": [
       "title    0\n",
       "text     0\n",
       "label    0\n",
       "dtype: int64"
      ]
     },
     "execution_count": 45,
     "metadata": {},
     "output_type": "execute_result"
    }
   ],
   "source": [
    "Dataset.isnull().sum()"
   ]
  },
  {
   "cell_type": "code",
   "execution_count": 46,
   "id": "02139185-4c70-4871-ab66-69d4f5357a6f",
   "metadata": {},
   "outputs": [
    {
     "data": {
      "text/plain": [
       "(71537, 3)"
      ]
     },
     "execution_count": 46,
     "metadata": {},
     "output_type": "execute_result"
    }
   ],
   "source": [
    "Dataset.shape"
   ]
  },
  {
   "cell_type": "code",
   "execution_count": 47,
   "id": "cef60b82-c2d4-4563-b378-911f1a13812d",
   "metadata": {},
   "outputs": [],
   "source": [
    "#Combine title and text into one 'content' column\n",
    "#title is just headine and text is description about that news\n",
    "Dataset['content'] = Dataset['title'] + \" \" + Dataset['text']"
   ]
  },
  {
   "cell_type": "code",
   "execution_count": 48,
   "id": "d30503fc-9026-4253-b4e0-478e585bd908",
   "metadata": {},
   "outputs": [],
   "source": [
    "Dataset.drop(columns=['title', 'text'], inplace=True)"
   ]
  },
  {
   "cell_type": "code",
   "execution_count": 49,
   "id": "30de069b-795f-4e32-8deb-85a4e583af75",
   "metadata": {},
   "outputs": [],
   "source": [
    "#Rearrange columns so 'content' comes first\n",
    "Dataset = Dataset[['content', 'label']]"
   ]
  },
  {
   "cell_type": "code",
   "execution_count": 51,
   "id": "47da1f9b-aa4f-48e1-940e-7cf0517157fb",
   "metadata": {},
   "outputs": [],
   "source": [
    "Cleaned_df = Dataset"
   ]
  },
  {
   "cell_type": "code",
   "execution_count": 52,
   "id": "9032bbf5-3622-4521-9021-56ab804fdabb",
   "metadata": {},
   "outputs": [
    {
     "data": {
      "text/html": [
       "<div>\n",
       "<style scoped>\n",
       "    .dataframe tbody tr th:only-of-type {\n",
       "        vertical-align: middle;\n",
       "    }\n",
       "\n",
       "    .dataframe tbody tr th {\n",
       "        vertical-align: top;\n",
       "    }\n",
       "\n",
       "    .dataframe thead th {\n",
       "        text-align: right;\n",
       "    }\n",
       "</style>\n",
       "<table border=\"1\" class=\"dataframe\">\n",
       "  <thead>\n",
       "    <tr style=\"text-align: right;\">\n",
       "      <th></th>\n",
       "      <th>content</th>\n",
       "      <th>label</th>\n",
       "    </tr>\n",
       "  </thead>\n",
       "  <tbody>\n",
       "    <tr>\n",
       "      <th>0</th>\n",
       "      <td>LAW ENFORCEMENT ON HIGH ALERT Following Threat...</td>\n",
       "      <td>1</td>\n",
       "    </tr>\n",
       "    <tr>\n",
       "      <th>1</th>\n",
       "      <td>UNBELIEVABLE! OBAMA’S ATTORNEY GENERAL SAYS MO...</td>\n",
       "      <td>1</td>\n",
       "    </tr>\n",
       "    <tr>\n",
       "      <th>2</th>\n",
       "      <td>Bobby Jindal, raised Hindu, uses story of Chri...</td>\n",
       "      <td>0</td>\n",
       "    </tr>\n",
       "    <tr>\n",
       "      <th>3</th>\n",
       "      <td>SATAN 2: Russia unvelis an image of its terrif...</td>\n",
       "      <td>1</td>\n",
       "    </tr>\n",
       "    <tr>\n",
       "      <th>4</th>\n",
       "      <td>About Time! Christian Group Sues Amazon and SP...</td>\n",
       "      <td>1</td>\n",
       "    </tr>\n",
       "  </tbody>\n",
       "</table>\n",
       "</div>"
      ],
      "text/plain": [
       "                                             content  label\n",
       "0  LAW ENFORCEMENT ON HIGH ALERT Following Threat...      1\n",
       "1  UNBELIEVABLE! OBAMA’S ATTORNEY GENERAL SAYS MO...      1\n",
       "2  Bobby Jindal, raised Hindu, uses story of Chri...      0\n",
       "3  SATAN 2: Russia unvelis an image of its terrif...      1\n",
       "4  About Time! Christian Group Sues Amazon and SP...      1"
      ]
     },
     "execution_count": 52,
     "metadata": {},
     "output_type": "execute_result"
    }
   ],
   "source": [
    "Cleaned_df.head()"
   ]
  },
  {
   "cell_type": "markdown",
   "id": "1e4d81ef-e04b-4c81-a652-58024edb2fd2",
   "metadata": {},
   "source": [
    "## Conversion of text into numerical features with TF-IDF Vectorization and Standardizing Data"
   ]
  },
  {
   "cell_type": "code",
   "execution_count": 17,
   "id": "31d4ba2a-04f6-43cd-8ab3-205045aa35f3",
   "metadata": {},
   "outputs": [],
   "source": [
    "from sklearn.feature_extraction.text import TfidfVectorizer\n",
    "from sklearn.model_selection import train_test_split\n",
    "X_train,X_test,y_train,y_test = train_test_split(Dataset['content'],Dataset['label'],test_size = 0.25,random_state = 7)"
   ]
  },
  {
   "cell_type": "code",
   "execution_count": 18,
   "id": "cd2e07fb-c9d3-408a-9154-d1fb5924fb42",
   "metadata": {},
   "outputs": [],
   "source": [
    "# Create TF-IDF vectorizer\n",
    "vectorizer = TfidfVectorizer(stop_words='english', max_df=0.7)"
   ]
  },
  {
   "cell_type": "code",
   "execution_count": 19,
   "id": "8d16d96c-bcbf-4340-a604-c6389cc2aa94",
   "metadata": {},
   "outputs": [],
   "source": [
    "# Fit and transform the text data into TF-IDF features\n",
    "X_train = vectorizer.fit_transform(X_train)\n",
    "X_test = vectorizer.transform(X_test)"
   ]
  },
  {
   "cell_type": "code",
   "execution_count": 20,
   "id": "696a618e-a5ad-432a-9882-9edc4180b492",
   "metadata": {},
   "outputs": [
    {
     "data": {
      "text/plain": [
       "((53652, 214796), (17885, 214796))"
      ]
     },
     "execution_count": 20,
     "metadata": {},
     "output_type": "execute_result"
    }
   ],
   "source": [
    "X_train.shape,X_test.shape"
   ]
  },
  {
   "cell_type": "markdown",
   "id": "60b2a710-80d7-4b5f-a2a0-635df76f3a4c",
   "metadata": {},
   "source": [
    "## Model Training with Logistic regression "
   ]
  },
  {
   "cell_type": "code",
   "execution_count": 24,
   "id": "7c8aefd6-630d-4906-af45-c30bd86f32f7",
   "metadata": {},
   "outputs": [],
   "source": [
    "from sklearn.linear_model import LogisticRegression\n",
    "logistic = LogisticRegression(max_iter = 1000)\n",
    "logistic.fit(X_train,y_train)\n",
    "y_train_pred_logistic = logistic.predict(X_train)\n",
    "y_test_pred_logistic = logistic.predict(X_test)"
   ]
  },
  {
   "cell_type": "code",
   "execution_count": 26,
   "id": "a41dd543-b372-4302-9834-507e976c6cba",
   "metadata": {},
   "outputs": [
    {
     "name": "stdout",
     "output_type": "stream",
     "text": [
      "Training Score :\n",
      "\n",
      "0.9626295385074182\n",
      "              precision    recall  f1-score   support\n",
      "\n",
      "           0       0.96      0.97      0.96     26098\n",
      "           1       0.97      0.96      0.96     27554\n",
      "\n",
      "    accuracy                           0.96     53652\n",
      "   macro avg       0.96      0.96      0.96     53652\n",
      "weighted avg       0.96      0.96      0.96     53652\n",
      "\n",
      "[[25205   893]\n",
      " [ 1112 26442]]\n",
      "--------------------------------------------\n",
      "Testing Score :\n",
      "\n",
      "0.9480570310315907\n",
      "              precision    recall  f1-score   support\n",
      "\n",
      "           0       0.94      0.95      0.95      8582\n",
      "           1       0.96      0.94      0.95      9303\n",
      "\n",
      "    accuracy                           0.95     17885\n",
      "   macro avg       0.95      0.95      0.95     17885\n",
      "weighted avg       0.95      0.95      0.95     17885\n",
      "\n",
      "[[8182  400]\n",
      " [ 529 8774]]\n"
     ]
    }
   ],
   "source": [
    "from sklearn.metrics import accuracy_score,classification_report,confusion_matrix\n",
    "print(\"Training Score :\\n\")\n",
    "print(accuracy_score(y_train_pred_logistic,y_train))\n",
    "print(classification_report(y_train_pred_logistic,y_train))\n",
    "print(confusion_matrix(y_train_pred_logistic,y_train))\n",
    "print(\"--------------------------------------------\")\n",
    "print(\"Testing Score :\\n\")\n",
    "print(accuracy_score(y_test_pred_logistic,y_test))\n",
    "print(classification_report(y_test_pred_logistic,y_test))\n",
    "print(confusion_matrix(y_test_pred_logistic,y_test))"
   ]
  },
  {
   "cell_type": "markdown",
   "id": "eb5a0e19-d10e-4beb-81d6-260f65561904",
   "metadata": {},
   "source": [
    "## Model Training with Multinomial Naive Bayes"
   ]
  },
  {
   "cell_type": "code",
   "execution_count": 28,
   "id": "a8bf3ba4-d5be-455f-9cf0-08b6722d978b",
   "metadata": {},
   "outputs": [],
   "source": [
    "from sklearn.model_selection import GridSearchCV\n",
    "from sklearn.naive_bayes import MultinomialNB\n",
    "param_grid = {\n",
    "    'alpha': [0.01, 0.1, 0.5, 1.0, 2.0]\n",
    "}"
   ]
  },
  {
   "cell_type": "code",
   "execution_count": 29,
   "id": "a19404e6-2b7f-4649-a6ba-883b0891047d",
   "metadata": {},
   "outputs": [
    {
     "name": "stdout",
     "output_type": "stream",
     "text": [
      "Best alpha and estimator: {'alpha': 0.01} MultinomialNB(alpha=0.01)\n",
      "Best cross-validation accuracy: 0.8888950695752774\n"
     ]
    }
   ],
   "source": [
    "mnb = MultinomialNB()\n",
    "grid = GridSearchCV(mnb, param_grid, cv=5, scoring='accuracy')\n",
    "grid.fit(X_train, y_train)\n",
    "\n",
    "# Best parameters and score\n",
    "print(\"Best alpha and estimator:\", grid.best_params_ , grid.best_estimator_)\n",
    "print(\"Best cross-validation accuracy:\", grid.best_score_)\n",
    "\n",
    "# Use the best model to predict\n",
    "best_mnb = grid.best_estimator_\n",
    "y_train_pred_mnb = best_mnb.predict(X_train)\n",
    "y_test_pred_mnb = best_mnb.predict(X_test)"
   ]
  },
  {
   "cell_type": "code",
   "execution_count": 30,
   "id": "ab4d80c4-e19a-4be0-8be2-fa20f9e87ec1",
   "metadata": {},
   "outputs": [
    {
     "name": "stdout",
     "output_type": "stream",
     "text": [
      "Training Score :\n",
      "\n",
      "0.9352866621933945\n",
      "              precision    recall  f1-score   support\n",
      "\n",
      "           0       0.94      0.93      0.93     26417\n",
      "           1       0.93      0.94      0.94     27235\n",
      "\n",
      "    accuracy                           0.94     53652\n",
      "   macro avg       0.94      0.94      0.94     53652\n",
      "weighted avg       0.94      0.94      0.94     53652\n",
      "\n",
      "[[24631  1786]\n",
      " [ 1686 25549]]\n",
      "--------------------------------------------\n",
      "Testing Score :\n",
      "\n",
      "0.8927033827229522\n",
      "              precision    recall  f1-score   support\n",
      "\n",
      "           0       0.88      0.89      0.89      8624\n",
      "           1       0.90      0.89      0.90      9261\n",
      "\n",
      "    accuracy                           0.89     17885\n",
      "   macro avg       0.89      0.89      0.89     17885\n",
      "weighted avg       0.89      0.89      0.89     17885\n",
      "\n",
      "[[7708  916]\n",
      " [1003 8258]]\n"
     ]
    }
   ],
   "source": [
    "from sklearn.metrics import accuracy_score,classification_report,confusion_matrix\n",
    "print(\"Training Score :\\n\")\n",
    "print(accuracy_score(y_train_pred_mnb,y_train))\n",
    "print(classification_report(y_train_pred_mnb,y_train))\n",
    "print(confusion_matrix(y_train_pred_mnb,y_train))\n",
    "print(\"--------------------------------------------\")\n",
    "print(\"Testing Score :\\n\")\n",
    "print(accuracy_score(y_test_pred_mnb,y_test))\n",
    "print(classification_report(y_test_pred_mnb,y_test))\n",
    "print(confusion_matrix(y_test_pred_mnb,y_test))"
   ]
  },
  {
   "cell_type": "markdown",
   "id": "e89c72b4-2f8d-45b0-a20c-a2aa0ced9552",
   "metadata": {},
   "source": [
    "## Model Training with Random Forest Algorithm"
   ]
  },
  {
   "cell_type": "code",
   "execution_count": 49,
   "id": "bdfbd725-29a0-4465-9d48-6eaea42268ac",
   "metadata": {},
   "outputs": [],
   "source": [
    "## Hyperparameter Training\n",
    "# rf_params = {\"max_depth\": [10,20,30,None],\n",
    "#              \"max_features\": ['sqrt','log2',0.01,0.05],\n",
    "#              \"min_samples_split\": [2, 5, 10],\n",
    "#              \"n_estimators\": [50, 100]}"
   ]
  },
  {
   "cell_type": "code",
   "execution_count": 46,
   "id": "7009ca6c-8223-469a-9ad2-308f19737e0d",
   "metadata": {},
   "outputs": [],
   "source": [
    "from sklearn.ensemble import RandomForestClassifier\n",
    "randomforest = RandomForestClassifier(max_depth = 10,max_features = 0.05,min_samples_split = 2,n_estimators = 50)"
   ]
  },
  {
   "cell_type": "code",
   "execution_count": 47,
   "id": "88f493ec-c9cd-4940-b3a7-b68b6faf952d",
   "metadata": {},
   "outputs": [],
   "source": [
    "# from sklearn.model_selection import RandomizedSearchCV\n",
    "# random = RandomizedSearchCV(estimator=randomforest,\n",
    "#                                    param_distributions = rf_params,\n",
    "#                                    n_iter=20,\n",
    "#                                    cv=3,\n",
    "#                                    verbose=2,\n",
    "#                                    n_jobs=1)\n",
    "randomforest.fit(X_train, y_train)\n",
    "y_train_pred_rf = randomforest.predict(X_train)\n",
    "y_test_pred_rf = randomforest.predict(X_test)"
   ]
  },
  {
   "cell_type": "code",
   "execution_count": 48,
   "id": "9bcefcda-0fb0-4d24-b4ea-2811f7491120",
   "metadata": {},
   "outputs": [
    {
     "name": "stdout",
     "output_type": "stream",
     "text": [
      "Training Score :\n",
      "\n",
      "0.93519346902259\n",
      "              precision    recall  f1-score   support\n",
      "\n",
      "           0       0.91      0.96      0.93     24956\n",
      "           1       0.96      0.92      0.94     28696\n",
      "\n",
      "    accuracy                           0.94     53652\n",
      "   macro avg       0.93      0.94      0.94     53652\n",
      "weighted avg       0.94      0.94      0.94     53652\n",
      "\n",
      "[[23898  1058]\n",
      " [ 2419 26277]]\n",
      "--------------------------------------------\n",
      "Testing Score :\n",
      "\n",
      "0.9217780262790047\n",
      "              precision    recall  f1-score   support\n",
      "\n",
      "           0       0.89      0.94      0.92      8224\n",
      "           1       0.95      0.90      0.93      9661\n",
      "\n",
      "    accuracy                           0.92     17885\n",
      "   macro avg       0.92      0.92      0.92     17885\n",
      "weighted avg       0.92      0.92      0.92     17885\n",
      "\n",
      "[[7768  456]\n",
      " [ 943 8718]]\n"
     ]
    }
   ],
   "source": [
    "from sklearn.metrics import accuracy_score,classification_report,confusion_matrix\n",
    "print(\"Training Score :\\n\")\n",
    "print(accuracy_score(y_train_pred_rf,y_train))\n",
    "print(classification_report(y_train_pred_rf,y_train))\n",
    "print(confusion_matrix(y_train_pred_rf,y_train))\n",
    "print(\"--------------------------------------------\")\n",
    "print(\"Testing Score :\\n\")\n",
    "print(accuracy_score(y_test_pred_rf,y_test))\n",
    "print(classification_report(y_test_pred_rf,y_test))\n",
    "print(confusion_matrix(y_test_pred_rf,y_test))"
   ]
  },
  {
   "cell_type": "markdown",
   "id": "bd8343d1-cc35-4683-9a2d-24ef6c030211",
   "metadata": {},
   "source": [
    "## Stacking "
   ]
  },
  {
   "cell_type": "code",
   "execution_count": 52,
   "id": "c72b8e71-0793-4b72-b8df-2332ae28e24b",
   "metadata": {},
   "outputs": [
    {
     "name": "stdout",
     "output_type": "stream",
     "text": [
      "Stacking Model Accuracy: 0.9584008946044171\n",
      "              precision    recall  f1-score   support\n",
      "\n",
      "           0       0.96      0.95      0.96      8711\n",
      "           1       0.95      0.97      0.96      9174\n",
      "\n",
      "    accuracy                           0.96     17885\n",
      "   macro avg       0.96      0.96      0.96     17885\n",
      "weighted avg       0.96      0.96      0.96     17885\n",
      "\n"
     ]
    }
   ],
   "source": [
    "from sklearn.ensemble import StackingClassifier\n",
    "# Define base models\n",
    "base_models = [\n",
    "    ('nb', MultinomialNB(alpha=0.01)),\n",
    "    ('rf', RandomForestClassifier(\n",
    "        max_depth=10, \n",
    "        max_features=0.05, \n",
    "        min_samples_split=2, \n",
    "        n_estimators=50\n",
    "    ))\n",
    "]\n",
    "# Define meta-learner\n",
    "meta_model = LogisticRegression( max_iter=1000)\n",
    "\n",
    "# Stacking Classifier\n",
    "stack_model = StackingClassifier(\n",
    "    estimators = base_models,\n",
    "    final_estimator = meta_model,\n",
    "    passthrough = True,\n",
    "    cv = 3,\n",
    "    n_jobs = -1\n",
    ")\n",
    "\n",
    "stack_model.fit(X_train, y_train)\n",
    "y_pred = stack_model.predict(X_test)\n",
    "\n",
    "print(\"Stacking Model Accuracy:\", accuracy_score(y_test, y_pred))\n",
    "print(classification_report(y_test, y_pred))\n"
   ]
  },
  {
   "cell_type": "code",
   "execution_count": 55,
   "id": "7f30bf8d-4fcf-406b-b6b5-4f97296ad64f",
   "metadata": {},
   "outputs": [
    {
     "data": {
      "text/plain": [
       "['vectorizer.joblib']"
      ]
     },
     "execution_count": 55,
     "metadata": {},
     "output_type": "execute_result"
    }
   ],
   "source": [
    "# Saving the model\n",
    "import joblib\n",
    "joblib.dump(stack_model, 'stack_model.joblib')\n",
    "joblib.dump(vectorizer, 'vectorizer.joblib')"
   ]
  },
  {
   "cell_type": "markdown",
   "id": "5f07bac8-e7e8-4d80-af8f-587e5faa2332",
   "metadata": {},
   "source": [
    "## Adding custom datset to the WELFake_Dataset to Enrich Fake News Examples with WhatsApp-Like Messages "
   ]
  },
  {
   "cell_type": "code",
   "execution_count": 24,
   "id": "8be827a6-f4ac-4aa9-8493-f41daced889a",
   "metadata": {},
   "outputs": [],
   "source": [
    "import pandas as pd\n",
    "import re\n",
    "import nltk\n",
    "from nltk.corpus import stopwords\n",
    "from nltk.stem import WordNetLemmatizer"
   ]
  },
  {
   "cell_type": "code",
   "execution_count": 25,
   "id": "a50ea787-ac06-4550-8ec3-8346c8880207",
   "metadata": {},
   "outputs": [
    {
     "data": {
      "text/html": [
       "<div>\n",
       "<style scoped>\n",
       "    .dataframe tbody tr th:only-of-type {\n",
       "        vertical-align: middle;\n",
       "    }\n",
       "\n",
       "    .dataframe tbody tr th {\n",
       "        vertical-align: top;\n",
       "    }\n",
       "\n",
       "    .dataframe thead th {\n",
       "        text-align: right;\n",
       "    }\n",
       "</style>\n",
       "<table border=\"1\" class=\"dataframe\">\n",
       "  <thead>\n",
       "    <tr style=\"text-align: right;\">\n",
       "      <th></th>\n",
       "      <th>text</th>\n",
       "      <th>label</th>\n",
       "    </tr>\n",
       "  </thead>\n",
       "  <tbody>\n",
       "    <tr>\n",
       "      <th>0</th>\n",
       "      <td>Drinking hot water every hour cures COVID-19 c...</td>\n",
       "      <td>0</td>\n",
       "    </tr>\n",
       "    <tr>\n",
       "      <th>1</th>\n",
       "      <td>Scientists discover new species of dinosaur in...</td>\n",
       "      <td>1</td>\n",
       "    </tr>\n",
       "    <tr>\n",
       "      <th>2</th>\n",
       "      <td>Government to ban use of mobile phones after 6...</td>\n",
       "      <td>0</td>\n",
       "    </tr>\n",
       "    <tr>\n",
       "      <th>3</th>\n",
       "      <td>Oxford scientists develop promising malaria va...</td>\n",
       "      <td>1</td>\n",
       "    </tr>\n",
       "    <tr>\n",
       "      <th>4</th>\n",
       "      <td>WHO declares COVID-19 no longer a global healt...</td>\n",
       "      <td>1</td>\n",
       "    </tr>\n",
       "  </tbody>\n",
       "</table>\n",
       "</div>"
      ],
      "text/plain": [
       "                                                text  label\n",
       "0  Drinking hot water every hour cures COVID-19 c...      0\n",
       "1  Scientists discover new species of dinosaur in...      1\n",
       "2  Government to ban use of mobile phones after 6...      0\n",
       "3  Oxford scientists develop promising malaria va...      1\n",
       "4  WHO declares COVID-19 no longer a global healt...      1"
      ]
     },
     "execution_count": 25,
     "metadata": {},
     "output_type": "execute_result"
    }
   ],
   "source": [
    "# Load the dataset\n",
    "df = pd.read_csv(\"custom_fake_real_news_dataset.csv\")\n",
    "df.head()"
   ]
  },
  {
   "cell_type": "code",
   "execution_count": 26,
   "id": "ea060dbb-5e54-49c0-9679-1ad551d71bfd",
   "metadata": {},
   "outputs": [],
   "source": [
    "# Initialize lemmatizer and stopwords\n",
    "lemmatizer = WordNetLemmatizer()\n",
    "stop_words = set(stopwords.words(\"english\"))"
   ]
  },
  {
   "cell_type": "code",
   "execution_count": 27,
   "id": "c52d1a23-37a4-4f21-bf5b-ee222c0a0bcd",
   "metadata": {},
   "outputs": [],
   "source": [
    "# Preprocessing function\n",
    "def clean_text(text):\n",
    "    if pd.isnull(text):\n",
    "        return \"\"\n",
    "    text = text.lower()                              # Lowercase\n",
    "    text = re.sub(r\"[^a-z\\s]\", \"\", text)             # Remove punctuation/numbers\n",
    "    text = re.sub(r\"\\s+\", \" \", text).strip()         # Remove extra spaces\n",
    "    words = text.split()                             # Tokenization\n",
    "    words = [lemmatizer.lemmatize(word) for word in words if word not in stop_words]\n",
    "    return \" \".join(words)"
   ]
  },
  {
   "cell_type": "code",
   "execution_count": 28,
   "id": "fc7dd222-66fa-4937-b206-67ac140c300c",
   "metadata": {},
   "outputs": [],
   "source": [
    "# Combine title and text before cleaning\n",
    "df[\"text\"] = df[\"text\"].fillna('')\n",
    "df[\"content\"] = df[\"text\"].apply(clean_text)"
   ]
  },
  {
   "cell_type": "code",
   "execution_count": 29,
   "id": "158b004d-326f-4d09-9a56-0e87ffefdbe5",
   "metadata": {},
   "outputs": [],
   "source": [
    "# Droping \"text\" Column\n",
    "df.drop(\"text\",axis = 1,inplace = True)"
   ]
  },
  {
   "cell_type": "code",
   "execution_count": 30,
   "id": "ef6109bd-23bb-4007-98e0-1bfc6feece62",
   "metadata": {},
   "outputs": [
    {
     "data": {
      "text/html": [
       "<div>\n",
       "<style scoped>\n",
       "    .dataframe tbody tr th:only-of-type {\n",
       "        vertical-align: middle;\n",
       "    }\n",
       "\n",
       "    .dataframe tbody tr th {\n",
       "        vertical-align: top;\n",
       "    }\n",
       "\n",
       "    .dataframe thead th {\n",
       "        text-align: right;\n",
       "    }\n",
       "</style>\n",
       "<table border=\"1\" class=\"dataframe\">\n",
       "  <thead>\n",
       "    <tr style=\"text-align: right;\">\n",
       "      <th></th>\n",
       "      <th>label</th>\n",
       "      <th>content</th>\n",
       "    </tr>\n",
       "  </thead>\n",
       "  <tbody>\n",
       "    <tr>\n",
       "      <th>0</th>\n",
       "      <td>0</td>\n",
       "      <td>drinking hot water every hour cure covid compl...</td>\n",
       "    </tr>\n",
       "    <tr>\n",
       "      <th>1</th>\n",
       "      <td>1</td>\n",
       "      <td>scientist discover new specie dinosaur argentina</td>\n",
       "    </tr>\n",
       "    <tr>\n",
       "      <th>2</th>\n",
       "      <td>0</td>\n",
       "      <td>government ban use mobile phone pm</td>\n",
       "    </tr>\n",
       "    <tr>\n",
       "      <th>3</th>\n",
       "      <td>1</td>\n",
       "      <td>oxford scientist develop promising malaria vac...</td>\n",
       "    </tr>\n",
       "    <tr>\n",
       "      <th>4</th>\n",
       "      <td>1</td>\n",
       "      <td>declares covid longer global health emergency</td>\n",
       "    </tr>\n",
       "  </tbody>\n",
       "</table>\n",
       "</div>"
      ],
      "text/plain": [
       "   label                                            content\n",
       "0      0  drinking hot water every hour cure covid compl...\n",
       "1      1   scientist discover new specie dinosaur argentina\n",
       "2      0                 government ban use mobile phone pm\n",
       "3      1  oxford scientist develop promising malaria vac...\n",
       "4      1      declares covid longer global health emergency"
      ]
     },
     "execution_count": 30,
     "metadata": {},
     "output_type": "execute_result"
    }
   ],
   "source": [
    "df.head()"
   ]
  },
  {
   "cell_type": "code",
   "execution_count": 31,
   "id": "22e71fad-020e-4710-8738-bde00bd82aea",
   "metadata": {},
   "outputs": [
    {
     "data": {
      "text/html": [
       "<div>\n",
       "<style scoped>\n",
       "    .dataframe tbody tr th:only-of-type {\n",
       "        vertical-align: middle;\n",
       "    }\n",
       "\n",
       "    .dataframe tbody tr th {\n",
       "        vertical-align: top;\n",
       "    }\n",
       "\n",
       "    .dataframe thead th {\n",
       "        text-align: right;\n",
       "    }\n",
       "</style>\n",
       "<table border=\"1\" class=\"dataframe\">\n",
       "  <thead>\n",
       "    <tr style=\"text-align: right;\">\n",
       "      <th></th>\n",
       "      <th>content</th>\n",
       "      <th>label</th>\n",
       "    </tr>\n",
       "  </thead>\n",
       "  <tbody>\n",
       "    <tr>\n",
       "      <th>0</th>\n",
       "      <td>drinking hot water every hour cure covid compl...</td>\n",
       "      <td>0</td>\n",
       "    </tr>\n",
       "    <tr>\n",
       "      <th>1</th>\n",
       "      <td>scientist discover new specie dinosaur argentina</td>\n",
       "      <td>1</td>\n",
       "    </tr>\n",
       "    <tr>\n",
       "      <th>2</th>\n",
       "      <td>government ban use mobile phone pm</td>\n",
       "      <td>0</td>\n",
       "    </tr>\n",
       "    <tr>\n",
       "      <th>3</th>\n",
       "      <td>oxford scientist develop promising malaria vac...</td>\n",
       "      <td>1</td>\n",
       "    </tr>\n",
       "    <tr>\n",
       "      <th>4</th>\n",
       "      <td>declares covid longer global health emergency</td>\n",
       "      <td>1</td>\n",
       "    </tr>\n",
       "  </tbody>\n",
       "</table>\n",
       "</div>"
      ],
      "text/plain": [
       "                                             content  label\n",
       "0  drinking hot water every hour cure covid compl...      0\n",
       "1   scientist discover new specie dinosaur argentina      1\n",
       "2                 government ban use mobile phone pm      0\n",
       "3  oxford scientist develop promising malaria vac...      1\n",
       "4      declares covid longer global health emergency      1"
      ]
     },
     "execution_count": 31,
     "metadata": {},
     "output_type": "execute_result"
    }
   ],
   "source": [
    "df = df[[\"content\",\"label\"]]\n",
    "df.head()"
   ]
  },
  {
   "cell_type": "markdown",
   "id": "6e592054-3a4d-4dc3-8c70-97aeb2721b9b",
   "metadata": {},
   "source": [
    "#### Merging custom dataset and WELFake_Dataset"
   ]
  },
  {
   "cell_type": "code",
   "execution_count": 55,
   "id": "93a9ec9e-28d0-483c-80a5-5cdba64eb656",
   "metadata": {},
   "outputs": [
    {
     "data": {
      "text/html": [
       "<div>\n",
       "<style scoped>\n",
       "    .dataframe tbody tr th:only-of-type {\n",
       "        vertical-align: middle;\n",
       "    }\n",
       "\n",
       "    .dataframe tbody tr th {\n",
       "        vertical-align: top;\n",
       "    }\n",
       "\n",
       "    .dataframe thead th {\n",
       "        text-align: right;\n",
       "    }\n",
       "</style>\n",
       "<table border=\"1\" class=\"dataframe\">\n",
       "  <thead>\n",
       "    <tr style=\"text-align: right;\">\n",
       "      <th></th>\n",
       "      <th>content</th>\n",
       "      <th>label</th>\n",
       "    </tr>\n",
       "  </thead>\n",
       "  <tbody>\n",
       "    <tr>\n",
       "      <th>72532</th>\n",
       "      <td>moon turn green due mar magnetic pull</td>\n",
       "      <td>0</td>\n",
       "    </tr>\n",
       "    <tr>\n",
       "      <th>72533</th>\n",
       "      <td>un release climate change impact report</td>\n",
       "      <td>1</td>\n",
       "    </tr>\n",
       "    <tr>\n",
       "      <th>72534</th>\n",
       "      <td>alien landed nevada desert government hiding t...</td>\n",
       "      <td>0</td>\n",
       "    </tr>\n",
       "    <tr>\n",
       "      <th>72535</th>\n",
       "      <td>isro announces new moon mission</td>\n",
       "      <td>1</td>\n",
       "    </tr>\n",
       "    <tr>\n",
       "      <th>72536</th>\n",
       "      <td>drinking hot water every hour cure covid compl...</td>\n",
       "      <td>0</td>\n",
       "    </tr>\n",
       "  </tbody>\n",
       "</table>\n",
       "</div>"
      ],
      "text/plain": [
       "                                                 content  label\n",
       "72532              moon turn green due mar magnetic pull      0\n",
       "72533            un release climate change impact report      1\n",
       "72534  alien landed nevada desert government hiding t...      0\n",
       "72535                    isro announces new moon mission      1\n",
       "72536  drinking hot water every hour cure covid compl...      0"
      ]
     },
     "execution_count": 55,
     "metadata": {},
     "output_type": "execute_result"
    }
   ],
   "source": [
    "merged_df = pd.concat([Cleaned_df, df], ignore_index=True)\n",
    "merged_df.tail()"
   ]
  },
  {
   "cell_type": "code",
   "execution_count": 58,
   "id": "5c6cd606-977f-47e7-b09b-f4cf7eb85df0",
   "metadata": {},
   "outputs": [],
   "source": [
    "from sklearn.feature_extraction.text import TfidfVectorizer\n",
    "from sklearn.model_selection import train_test_split\n",
    "X_train,X_test,y_train,y_test = train_test_split(merged_df['content'],merged_df['label'],test_size = 0.25,random_state = 7)"
   ]
  },
  {
   "cell_type": "code",
   "execution_count": 59,
   "id": "058a9bb7-0a1d-48c4-b97d-7e2a76083222",
   "metadata": {},
   "outputs": [],
   "source": [
    "# Create TF-IDF vectorizer\n",
    "new_vectorizer = TfidfVectorizer(max_features=10000, ngram_range=(1, 2))"
   ]
  },
  {
   "cell_type": "code",
   "execution_count": 60,
   "id": "b161ac42-164e-41b1-9917-d145adb4d3fe",
   "metadata": {},
   "outputs": [],
   "source": [
    "# Fit and transform the text data into TF-IDF features\n",
    "X_train = new_vectorizer.fit_transform(X_train)\n",
    "X_test = new_vectorizer.transform(X_test)"
   ]
  },
  {
   "cell_type": "code",
   "execution_count": 64,
   "id": "fcb8fdc9-2cec-45db-af7d-462ff70fbd99",
   "metadata": {},
   "outputs": [],
   "source": [
    "from sklearn.ensemble import StackingClassifier\n",
    "from sklearn.linear_model import LogisticRegression\n",
    "from sklearn.naive_bayes import MultinomialNB\n",
    "from sklearn.ensemble import RandomForestClassifier\n",
    "from sklearn.metrics import accuracy_score,classification_report,confusion_matrix"
   ]
  },
  {
   "cell_type": "code",
   "execution_count": null,
   "id": "4155296b-1c4f-47fc-a884-c456f5a51985",
   "metadata": {},
   "outputs": [],
   "source": [
    "# Define base models\n",
    "base_models = [\n",
    "    ('nb', MultinomialNB(alpha=0.01)),\n",
    "    ('rf', RandomForestClassifier(\n",
    "        max_depth=15, \n",
    "        max_features=0.05, \n",
    "        min_samples_split=5, \n",
    "        n_estimators=150\n",
    "    ))\n",
    "]\n",
    "# Define meta-learner\n",
    "meta_model = LogisticRegression(max_iter=1000)\n",
    "\n",
    "# Stacking Classifier\n",
    "new_stack_model = StackingClassifier(\n",
    "    estimators = base_models,\n",
    "    final_estimator = meta_model,\n",
    "    passthrough = True,\n",
    "    cv = 3,\n",
    "    n_jobs = -1\n",
    ")\n",
    "\n",
    "new_stack_model.fit(X_train, y_train)\n",
    "new_y_pred = new_stack_model.predict(X_test)\n"
   ]
  },
  {
   "cell_type": "code",
   "execution_count": 65,
   "id": "5e94ee74-d156-43f6-86d1-3f24948a7e67",
   "metadata": {},
   "outputs": [
    {
     "name": "stdout",
     "output_type": "stream",
     "text": [
      "Stacking Model Accuracy: 0.9693410532120209\n",
      "              precision    recall  f1-score   support\n",
      "\n",
      "           0       0.98      0.96      0.97      8956\n",
      "           1       0.96      0.98      0.97      9179\n",
      "\n",
      "    accuracy                           0.97     18135\n",
      "   macro avg       0.97      0.97      0.97     18135\n",
      "weighted avg       0.97      0.97      0.97     18135\n",
      "\n"
     ]
    }
   ],
   "source": [
    "# Evaluating Model\n",
    "print(\"Stacking Model Accuracy:\", accuracy_score(y_test, new_y_pred))\n",
    "print(classification_report(y_test, new_y_pred))"
   ]
  },
  {
   "cell_type": "code",
   "execution_count": 66,
   "id": "ad3244b7-f203-4a4f-b027-b1c55a18cf77",
   "metadata": {},
   "outputs": [
    {
     "data": {
      "text/plain": [
       "['new_vectorizer.joblib']"
      ]
     },
     "execution_count": 66,
     "metadata": {},
     "output_type": "execute_result"
    }
   ],
   "source": [
    "# Saving the model\n",
    "import joblib\n",
    "joblib.dump(new_stack_model, 'new_stack_model.joblib')\n",
    "joblib.dump(new_vectorizer, 'new_vectorizer.joblib')"
   ]
  },
  {
   "cell_type": "code",
   "execution_count": null,
   "id": "005ed285-783e-4ca6-ab49-bb5c1b6c4090",
   "metadata": {},
   "outputs": [],
   "source": []
  },
  {
   "cell_type": "code",
   "execution_count": null,
   "id": "6c84df3d-ae34-492a-84c2-ab2f520cb89e",
   "metadata": {},
   "outputs": [],
   "source": []
  },
  {
   "cell_type": "code",
   "execution_count": null,
   "id": "1cd8f32d-6d13-4552-8cd1-3c4275511b33",
   "metadata": {},
   "outputs": [],
   "source": []
  },
  {
   "cell_type": "code",
   "execution_count": null,
   "id": "07964790-4e5b-44f1-9ad8-da034c056c75",
   "metadata": {},
   "outputs": [],
   "source": []
  },
  {
   "cell_type": "code",
   "execution_count": null,
   "id": "e4ea8c32-57a6-4aab-9dbd-4eacd2d5397d",
   "metadata": {},
   "outputs": [],
   "source": []
  },
  {
   "cell_type": "code",
   "execution_count": null,
   "id": "088ebb1c-2d4d-4017-b229-08f6dffc5e78",
   "metadata": {},
   "outputs": [],
   "source": []
  }
 ],
 "metadata": {
  "kernelspec": {
   "display_name": "Python [conda env:base] *",
   "language": "python",
   "name": "conda-base-py"
  },
  "language_info": {
   "codemirror_mode": {
    "name": "ipython",
    "version": 3
   },
   "file_extension": ".py",
   "mimetype": "text/x-python",
   "name": "python",
   "nbconvert_exporter": "python",
   "pygments_lexer": "ipython3",
   "version": "3.10.0"
  }
 },
 "nbformat": 4,
 "nbformat_minor": 5
}
